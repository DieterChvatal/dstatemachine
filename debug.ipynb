{
 "cells": [
  {
   "cell_type": "code",
   "execution_count": null,
   "metadata": {},
   "outputs": [],
   "source": [
    "import warnings # default warn => SettingWithCopyWarning\n",
    "warnings.simplefilter(action='ignore', category=UserWarning)\n",
    "import pandas as pd; pd.options.mode.chained_assignment = None\n",
    "import numpy as np\n",
    "from datetime import datetime, date\n",
    "import time\n",
    "import scipy.fftpack\n",
    "from scipy.signal import savgol_filter\n",
    "import matplotlib.pyplot as plt\n",
    "import arrow\n",
    "from pprint import pprint as pp\n",
    "#from tqdm import tqdm\n",
    "import App.common as cm\n",
    "\n",
    "import dmyplant2\n",
    "from dmyplant2 import (\n",
    "    cred, MyPlant, Engine,\n",
    "    FSMOperator, startstopFSM, FSM_splot, FSM_splotBC, FSM_VLine, FSM_add_Notations, FSM_add_Alarms, FSM_add_Warnings,\n",
    "    bokeh_show, dbokeh_chart, add_dbokeh_vlines, get_cycle_data2, disp_result, disp_alarms, disp_warnings,\n",
    "    cvset, cplotdef, equal_adjust, count_columns, load_data, get_cycle_data, get_cycle_data2, figures)\n",
    "\n",
    "import ipywidgets as widgets\n",
    "from ipywidgets import AppLayout, Button, Layout, VBox, HBox, Label, HTML, interact, interact_manual, interactive, IntSlider, Output\n",
    "from IPython.display import HTML, display\n",
    "display(HTML(\"<style>.container {width:94% !important;}</style>\"))\n",
    "\n",
    "from bokeh.io import push_notebook, show, output_notebook\n",
    "from bokeh.models import ColumnDataSource, Label, Text, Span, HoverTool #, Range1d#, LabelSet\n",
    "from bokeh.plotting import figure\n",
    "output_notebook(hide_banner=True)\n",
    "\n",
    "# login to myplant()\n",
    "cred()\n",
    "mp = MyPlant(0)\n",
    "#Engine._list_cached_validations()\n",
    "#mp._fetch_installed_base(); # refresh local installed fleet database"
   ]
  },
  {
   "cell_type": "code",
   "execution_count": null,
   "metadata": {},
   "outputs": [],
   "source": [
    "def sfun(x):\n",
    "    #return all([ (\"Flughafen Köln-Bonn\" in str(x['IB Site Name'])),  (x['OperationalCondition'] != 'Decommissioned') ])\n",
    "    #return all([ (\"CREYKE BECK\" in str(x['IB Site Name'])),  (x['OperationalCondition'] != 'Decommissioned') ])\n",
    "    #return all([ (\"Yukon Energy\" in str(x['IB Site Name'])),  (x['OperationalCondition'] != 'Decommissioned') ])\n",
    "    return all([ (\"Forsa Hartmoor\" in str(x['IB Site Name'])),  (x['OperationalCondition'] != 'Decommissioned') ])\n",
    "    #return all([ (\"EWB\" in str(x['IB Site Name'])),  (x['OperationalCondition'] != 'Decommissioned') ])\n",
    "    #return all([ (\"Pforzheim\" in str(x['IB Site Name'])),  (x['OperationalCondition'] != 'Decommissioned') ])\n",
    "    #return all([ (\"BMW Landshut 4.10\" in str(x['IB Site Name'])),  (x['OperationalCondition'] != 'Decommissioned') ])\n",
    "fleet = mp.search_installed_fleet(sfun).drop('index', axis=1)\n",
    "fleet = fleet.sort_values(by = \"Engine ID\",ascending=True).reset_index(drop='index')\n",
    "fleet.T"
   ]
  },
  {
   "cell_type": "code",
   "execution_count": null,
   "metadata": {},
   "outputs": [],
   "source": [
    "motor = fleet.iloc[0]\n",
    "modes = ['undefined','OFF','MAN','AUTO']\n",
    "success = ['success','failed','undefined']\n",
    "e=Engine.from_fleet(mp,motor)\n",
    "#pp_from='2022-03-28 06:00' # 1 Start\n",
    "#pp_to='2022-03-28 08:14'\n",
    "pp_from='2023-05-24'\n",
    "pp_to='2023-06-04'\n",
    "motor['IB Site Name'] + ' ' + motor['Engine ID'], modes, success"
   ]
  },
  {
   "cell_type": "code",
   "execution_count": null,
   "metadata": {},
   "outputs": [],
   "source": [
    "cm.dfigures(e)"
   ]
  },
  {
   "cell_type": "code",
   "execution_count": null,
   "metadata": {},
   "outputs": [],
   "source": [
    "fsm = FSMOperator(e, p_from=pp_from, p_to=pp_to)\n",
    "fsm.run0(enforce=True, silent=False, debug=False)\n",
    "fsm.run1(silent=False, successtime=300, debug=False) # run Finite State Machine\n",
    "fsm.run2(silent=False)\n",
    "fsm.run4(silent=False)"
   ]
  },
  {
   "cell_type": "code",
   "execution_count": null,
   "metadata": {},
   "outputs": [],
   "source": [
    "print(f\"FSM  {fsm.results['starts_counter']} {fsm.results['first_message']} {fsm.results['last_message']}\")"
   ]
  },
  {
   "cell_type": "code",
   "execution_count": null,
   "metadata": {},
   "outputs": [],
   "source": [
    "rdf = fsm.starts\n",
    "startversuch = rdf.iloc[0]\n",
    "pre_period=5*60\n",
    "post_period=21*60\n",
    "t_range=(0,100)\n",
    "print(f\"Start: {startversuch['starttime']} End:{startversuch['endtime']}\")\n",
    "tns = pd.to_datetime((startversuch['starttime'].timestamp() - pre_period + t_range[0]/100.0 * ((startversuch['endtime'].timestamp()  - startversuch['starttime'].timestamp()) + pre_period + post_period)), unit='s')\n",
    "tne = pd.to_datetime((startversuch['starttime'].timestamp() - pre_period + t_range[1]/100.0 * ((startversuch['endtime'].timestamp()  - startversuch['starttime'].timestamp()) + pre_period + post_period)), unit='s')\n",
    "print(f\"Start: {tns} End:{tne}\")"
   ]
  },
  {
   "cell_type": "code",
   "execution_count": null,
   "metadata": {},
   "outputs": [],
   "source": [
    "startversuch['starttime'].timestamp(), startversuch['endtime'].timestamp(), startversuch['endtime'] - startversuch['starttime'], tns, tne"
   ]
  },
  {
   "cell_type": "code",
   "execution_count": null,
   "metadata": {},
   "outputs": [],
   "source": [
    "pre_period, post_period, t_range"
   ]
  },
  {
   "cell_type": "code",
   "execution_count": null,
   "metadata": {},
   "outputs": [],
   "source": [
    "(startversuch['endtime']  - startversuch['starttime']).seconds"
   ]
  }
 ],
 "metadata": {
  "interpreter": {
   "hash": "00e7f18031541dc25b2d1c6c1f90e0b122a906b1440859c87878a4f6b4e1a002"
  },
  "kernelspec": {
   "display_name": "Python 3 (ipykernel)",
   "language": "python",
   "name": "python3"
  },
  "language_info": {
   "codemirror_mode": {
    "name": "ipython",
    "version": 3
   },
   "file_extension": ".py",
   "mimetype": "text/x-python",
   "name": "python",
   "nbconvert_exporter": "python",
   "pygments_lexer": "ipython3",
   "version": "3.10.10"
  }
 },
 "nbformat": 4,
 "nbformat_minor": 4
}
