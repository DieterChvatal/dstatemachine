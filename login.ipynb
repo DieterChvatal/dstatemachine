{
 "cells": [
  {
   "cell_type": "code",
   "execution_count": 4,
   "id": "dadfaf4b-ddc2-4316-b0dd-c32a8962c8dc",
   "metadata": {
    "tags": []
   },
   "outputs": [
    {
     "name": "stdout",
     "output_type": "stream",
     "text": [
      "\n",
      "Please enter your myPlant login: \n",
      "--------------------------------\n",
      "    \n"
     ]
    },
    {
     "name": "stdin",
     "output_type": "stream",
     "text": [
      "User:  sdfgdfg\n",
      "Password:  ········\n",
      "TOTP Secret:  ········\n"
     ]
    },
    {
     "name": "stdout",
     "output_type": "stream",
     "text": [
      "\n",
      "Login successful\n"
     ]
    }
   ],
   "source": [
    "import dmyplant2\n",
    "dmyplant2.cred()\n",
    "try:\n",
    "    mp = dmyplant2.MyPlant(0)\n",
    "    mp.login()\n",
    "    print('\\nLogin successful')\n",
    "except Exception as e:\n",
    "    print('Login Credentials not accepted.')\n",
    "    \n",
    "\n"
   ]
  },
  {
   "cell_type": "code",
   "execution_count": null,
   "id": "9af44976-55fb-4f8f-ad65-fc92d082f750",
   "metadata": {},
   "outputs": [],
   "source": []
  },
  {
   "cell_type": "code",
   "execution_count": null,
   "id": "e8c77ce5-afd4-4cf4-b538-5f5a371354e5",
   "metadata": {},
   "outputs": [],
   "source": []
  }
 ],
 "metadata": {
  "kernelspec": {
   "display_name": "Python 3 (ipykernel)",
   "language": "python",
   "name": "python3"
  },
  "language_info": {
   "codemirror_mode": {
    "name": "ipython",
    "version": 3
   },
   "file_extension": ".py",
   "mimetype": "text/x-python",
   "name": "python",
   "nbconvert_exporter": "python",
   "pygments_lexer": "ipython3",
   "version": "3.10.10"
  }
 },
 "nbformat": 4,
 "nbformat_minor": 5
}
