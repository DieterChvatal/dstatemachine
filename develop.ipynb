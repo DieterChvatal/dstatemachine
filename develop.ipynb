{
 "cells": [
  {
   "cell_type": "code",
   "execution_count": 30,
   "metadata": {},
   "outputs": [
    {
     "data": {
      "application/vnd.jupyter.widget-view+json": {
       "model_id": "903940e46a214a72bafe1e3091af9b23",
       "version_major": 2,
       "version_minor": 0
      },
      "text/html": [
       "Cannot show widget. You probably want to rerun the code cell above (<i>Click in the code cell, and press Shift+Enter <kbd>⇧</kbd>+<kbd>↩</kbd></i>)."
      ],
      "text/plain": [
       "Cannot show ipywidgets in text"
      ]
     },
     "metadata": {},
     "output_type": "display_data"
    },
    {
     "name": "stdout",
     "output_type": "stream",
     "text": [
      "None\n"
     ]
    }
   ],
   "source": [
    "\"\"\"# FileBrowser\n",
    "\"\"\"\n",
    "from pathlib import Path, PurePath\n",
    "from typing import Optional, cast\n",
    "\n",
    "import solara\n",
    "\n",
    "\n",
    "@solara.component\n",
    "def Filebrowser(localpath, myfilter):\n",
    "    file, set_file = solara.use_state(cast(Optional[Path], None))\n",
    "    path, set_path = solara.use_state(cast(Optional[Path], None))\n",
    "    directory, set_directory = solara.use_state(Path(\"~\" + localpath).expanduser())\n",
    "\n",
    "    def filter(s, pattern):\n",
    "        return s.endswith(pattern)\n",
    "\n",
    "    with solara.HBox() as main:\n",
    "        with solara.VBox():\n",
    "            can_select = solara.ui_checkbox(\"Enable select\")\n",
    "\n",
    "            def reset_path():\n",
    "                set_path(None)\n",
    "                set_file(None)\n",
    "\n",
    "            solara.use_memo(reset_path, [can_select])\n",
    "            solara.FileBrowser(directory, on_directory_change=set_directory, filter = myfilter, on_path_select=set_path, on_file_open=set_file, can_select=can_select)\n",
    "\n",
    "            # reset path and file when can_select changes\n",
    "        with solara.VBox():\n",
    "            solara.Info(f\"You are in directory: {directory}\")\n",
    "            solara.Info(f\"You selected path: {path}\")\n",
    "            solara.Info(f\"You opened file: {file}\")\n",
    "    return main\n",
    "\n",
    "#print(Path(\"~\" + \"/Documents/Scripts/dstatemachine/data/\").expanduser())\n",
    "display(Filebrowser(\"/Documents/Scripts/dstatemachine/data/\", lambda x: str(x).endswith(\".dfsm\")))"
   ]
  },
  {
   "cell_type": "code",
   "execution_count": 29,
   "metadata": {},
   "outputs": [
    {
     "name": "stdout",
     "output_type": "stream",
     "text": [
      "None\n"
     ]
    }
   ],
   "source": [
    "print(selected)"
   ]
  }
 ],
 "metadata": {
  "kernelspec": {
   "display_name": "venv",
   "language": "python",
   "name": "python3"
  },
  "language_info": {
   "codemirror_mode": {
    "name": "ipython",
    "version": 3
   },
   "file_extension": ".py",
   "mimetype": "text/x-python",
   "name": "python",
   "nbconvert_exporter": "python",
   "pygments_lexer": "ipython3",
   "version": "3.10.9"
  },
  "orig_nbformat": 4
 },
 "nbformat": 4,
 "nbformat_minor": 2
}
