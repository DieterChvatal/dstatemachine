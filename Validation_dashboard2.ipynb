{
 "cells": [
  {
   "cell_type": "code",
   "execution_count": 3,
   "metadata": {},
   "outputs": [],
   "source": [
    "#Version 1.3 (Dieter's Integration to dstatemachine) \n",
    "\n",
    "import dmyplant2\n",
    "import pandas as pd\n",
    "import warnings\n",
    "import logging\n",
    "#from urllib3.exceptions import NewConnectionError\n",
    "#import urllib\n",
    "\n",
    "warnings.simplefilter(action='ignore', category=pd.errors.PerformanceWarning)\n",
    "logging.basicConfig(\n",
    "    filename='dmyplant.log',\n",
    "    filemode='w',\n",
    "    format='%(asctime)s %(levelname)s, %(message)s',\n",
    "    level=logging.INFO\n",
    ")\n",
    "logging.captureWarnings(True)\n",
    "\n",
    "dmyplant2.cred()\n",
    "mp = dmyplant2.MyPlant(300)"
   ]
  },
  {
   "cell_type": "code",
   "execution_count": 4,
   "metadata": {},
   "outputs": [
    {
     "name": "stderr",
     "output_type": "stream",
     "text": [
      "VAL Engines: 100%|████████████████████████| 15/15 [00:08<00:00,  1.68 engines/s]\n"
     ]
    },
    {
     "name": "stdout",
     "output_type": "stream",
     "text": [
      "\n",
      "01/15: Downloading data for 1315442 RWTH AACHEN   L2.7 light (mod) CR11.5)              , Validation Start OPH:  40913, Validation Start Starts Counter:    590\n",
      "02/15: Downloading data for 1432514 LOUISA MSPC   L3.1 reground CR12.5                  , Validation Start OPH:   8931, Validation Start Starts Counter:   2220\n",
      "03/15: Downloading data for 1255658 Stadtwerke Rosenheim 624 L   L2.5 CR11.5            , Validation Start OPH:      0, Validation Start Starts Counter:      0\n",
      "04/15: Downloading data for 1254331 WISI 1   L2.5* CR11.5                               , Validation Start OPH:      0, Validation Start Starts Counter:      0\n",
      "05/15: Downloading data for 1255945 Den Horst 1   L2.5* CR11.5                          , Validation Start OPH:  19688, Validation Start Starts Counter:   1543\n",
      "06/15: Downloading data for 1255315 WM Energy M10   L3.1 CR11.5                         , Validation Start OPH:   4335, Validation Start Starts Counter:    595\n",
      "NOx Emissions plot has no data, not shown in the dashboard\n",
      "07/15: Downloading data for 1254333 Van Den Belt   L2.5 CR12.5                          , Validation Start OPH:      0, Validation Start Starts Counter:      0\n",
      "NOx Emissions plot has no data, not shown in the dashboard\n",
      "08/15: Downloading data for 1638668 Stoffels M5   L3.1 CR11.5                           , Validation Start OPH:   4282, Validation Start Starts Counter:   1620\n",
      "09/15: Downloading data for 1638657 Stoffels M6   L3.1 CR11.5                           , Validation Start OPH:   3886, Validation Start Starts Counter:   1687\n",
      "10/15: Downloading data for 1484272 Vrouwkensblok 1   L2.5 CR11.5                       , Validation Start OPH:      0, Validation Start Starts Counter:      0\n",
      "11/15: Downloading data for 1484275 Vrouwkensblok 2   L2.5 CR11.5                       , Validation Start OPH:      0, Validation Start Starts Counter:      0\n",
      "12/15: Downloading data for 1485116 Den Berk 5   L2.6 CR11.5                            , Validation Start OPH:      0, Validation Start Starts Counter:      0\n",
      "13/15: Downloading data for 1484930 Lauwerysen   L2.6 CR11.5                            , Validation Start OPH:      0, Validation Start Starts Counter:      0\n",
      "14/15: Downloading data for 1629541 Den Horst 2   L2.6 CR11.5                           , Validation Start OPH:      0, Validation Start Starts Counter:      0\n",
      "15/15: Downloading data for 1485341 Beirinckx 4   L2.6 CR11.5                           , Validation Start OPH:      0, Validation Start Starts Counter:      0\n"
     ]
    }
   ],
   "source": [
    "# create the dashboard\n",
    "try:\n",
    "    # dashbord table definition:\n",
    "    class myEngine(dmyplant2.Engine):\n",
    "        @ property\n",
    "        def dash(self):\n",
    "            _dash = dict()\n",
    "            _dash['Name'] = self.Name\n",
    "            _dash['serialNumber'] = self.serialNumber\n",
    "            _dash['Site'] = self.get_property('IB Site Name') \n",
    "            _dash['Engine ID'] = self.get_property('Engine ID')\n",
    "            _dash['Design Number'] = self.get_property('Design Number')\n",
    "            _dash['Engine Type'] = self.get_property('Engine Type')\n",
    "            _dash['Engine Version'] = self.get_property('Engine Version')\n",
    "            _dash['Gas type'] = self.get_property('Gas Type')\n",
    "            _dash['Country'] = self.get_property('Country')\n",
    "            _dash['OPH Engine'] = self.Count_OpHour\n",
    "            _dash['OPH Validation'] = self.oph_parts\n",
    "            _dash['P_nom'] = self.Pmech_nominal\n",
    "            _dash['BMEP'] = self.BMEP\n",
    "            _dash['LOC'] = self.get_dataItem(\n",
    "                'RMD_ListBuffMAvgOilConsume_OilConsumption')\n",
    "            return _dash\n",
    "\n",
    "    dval=dmyplant2.Validation.load_def_excel('./Validation Dashboard/Input_validation_dashboard.xlsx', 'Engines', mp) #Loading of validation engine data from excel\n",
    "    vl = dmyplant2.Validation(mp, dval, lengine=myEngine, cui_log=False)\n",
    "    print()\n",
    "    vd = dmyplant2.ValidationDashboard()\n",
    "    vd.all_code(vl)\n",
    "\n",
    "except Exception as e:\n",
    "    print(str(e))\n",
    "  \n",
    "finally:\n",
    "    pass"
   ]
  }
 ],
 "metadata": {
  "interpreter": {
   "hash": "c6f67f619c507261adfd1b3e240aa811c30c01a6fda948b8c554a6dc6da6c080"
  },
  "kernelspec": {
   "display_name": "Python 3 (ipykernel)",
   "language": "python",
   "name": "python3"
  },
  "language_info": {
   "codemirror_mode": {
    "name": "ipython",
    "version": 3
   },
   "file_extension": ".py",
   "mimetype": "text/x-python",
   "name": "python",
   "nbconvert_exporter": "python",
   "pygments_lexer": "ipython3",
   "version": "3.10.13"
  }
 },
 "nbformat": 4,
 "nbformat_minor": 4
}
