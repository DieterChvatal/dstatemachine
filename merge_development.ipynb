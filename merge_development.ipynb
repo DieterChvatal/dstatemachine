{
 "cells": [
  {
   "cell_type": "code",
   "execution_count": null,
   "metadata": {},
   "outputs": [],
   "source": [
    "import warnings # default warn => SettingWithCopyWarning\n",
    "warnings.simplefilter(action='ignore', category=UserWarning)\n",
    "import pandas as pd; pd.options.mode.chained_assignment = None\n",
    "#import numpy as np\n",
    "from datetime import datetime, date\n",
    "import time\n",
    "from pprint import pprint as pp\n",
    "#from tqdm import tqdm\n",
    "\n",
    "from IPython.display import HTML, display\n",
    "display(HTML(\"<style>.container {width:94% !important;}</style>\"))\n",
    "\n",
    "# login to myplant()\n",
    "import dmyplant2 as dmp2\n",
    "dmp2.cred()\n",
    "mp = dmp2.MyPlant(0)\n",
    "dmp2.Engine._list_cached_validations()\n",
    "#mp._fetch_installed_base(); # refresh local installed fleet database"
   ]
  },
  {
   "cell_type": "code",
   "execution_count": null,
   "metadata": {},
   "outputs": [],
   "source": [
    "def sfun(x):\n",
    "    #return all([ (\"CREYKE BECK\" in str(x['IB Site Name'])),  (x['OperationalCondition'] != 'Decommissioned') ])\n",
    "    #return all([ (\"Yukon Energy\" in str(x['IB Site Name'])),  (x['OperationalCondition'] != 'Decommissioned') ])\n",
    "    return all([ (\"Forsa Hartmoor\" in str(x['IB Site Name'])),  (x['OperationalCondition'] != 'Decommissioned') ])\n",
    "    #return all([ (\"EWB\" in str(x['IB Site Name'])),  (x['OperationalCondition'] != 'Decommissioned') ])\n",
    "    #return all([ (\"Pforzheim\" in str(x['IB Site Name'])),  (x['OperationalCondition'] != 'Decommissioned') ])\n",
    "    #return all([ (\"BMW Landshut 4.10\" in str(x['IB Site Name'])),  (x['OperationalCondition'] != 'Decommissioned') ])\n",
    "fleet = mp.search_installed_fleet(sfun).drop('index', axis=1)\n",
    "fleet = fleet.sort_values(by = \"Engine ID\",ascending=True).reset_index(drop='index')\n",
    "fleet.T"
   ]
  },
  {
   "cell_type": "code",
   "execution_count": null,
   "metadata": {},
   "outputs": [],
   "source": [
    "motor = fleet.iloc[2]\n",
    "modes = ['undefined','OFF','MAN','AUTO']\n",
    "success = ['success','failed','undefined']\n",
    "e=dmp2.Engine.from_fleet(mp,motor)\n",
    "#pp_from='2022-03-28 06:00' # 1 Start\n",
    "#pp_to='2022-03-28 08:14'\n",
    "pp_from='2022-08-01'\n",
    "pp_to='2023-03-01'\n",
    "motor['IB Site Name'] + ' ' + motor['Engine ID'], modes, success"
   ]
  },
  {
   "cell_type": "code",
   "execution_count": null,
   "metadata": {},
   "outputs": [],
   "source": [
    "# fsm = dmp2.FSMOperator(e, p_from=pp_from, p_to=pp_to)\n",
    "# fsm.run0(enforce=True, silent=False, debug=False)\n",
    "# fsm.run1(silent=False, successtime=300, debug=False) # run Finite State Machine\n",
    "# fsm.run2(silent=False)\n",
    "# fsm.run4(silent=False)"
   ]
  },
  {
   "cell_type": "code",
   "execution_count": null,
   "metadata": {},
   "outputs": [],
   "source": [
    "#fsm.save_results('Forsa_Hartmoor_M3_debug.dfsm')\n",
    "fsm = dmp2.FSMOperator.load_results(mp, 'Forsa_Hartmoor_M3_debug.dfsm')"
   ]
  },
  {
   "cell_type": "code",
   "execution_count": null,
   "metadata": {},
   "outputs": [],
   "source": [
    "pp_from = pd.to_datetime(fsm.results['starts'][-3]['starttime'])\n",
    "pp_to = date.today()"
   ]
  },
  {
   "cell_type": "code",
   "execution_count": null,
   "metadata": {},
   "outputs": [],
   "source": [
    "#pp_from='2023-03-28'\n",
    "#pp_to='2023-03-29'\n",
    "fsm2 = dmp2.FSMOperator(e, p_from=pp_from, p_to=pp_to)\n",
    "fsm2.run0(enforce=True, silent=False, debug=False)\n",
    "fsm2.run1(silent=False, successtime=300, debug=False) # run Finite State Machine\n",
    "fsm2.run2(silent=False)\n",
    "fsm2.run4(silent=False)"
   ]
  },
  {
   "cell_type": "code",
   "execution_count": null,
   "metadata": {},
   "outputs": [],
   "source": [
    "print(f\"FSM  {fsm.results['starts_counter']} {fsm.results['first_message']} {fsm.results['last_message']}\")\n",
    "print(f\"FSM2 {fsm2.results['starts_counter']} {fsm2.results['first_message']} {fsm2.results['last_message']}\")"
   ]
  },
  {
   "cell_type": "code",
   "execution_count": null,
   "metadata": {},
   "outputs": [],
   "source": [
    "# pp_from='2022-08-01'\n",
    "# pp_to='2023-05-04'\n",
    "# fsm3 = dmp2.FSMOperator(e, p_from=pp_from, p_to=pp_to)\n",
    "# fsm3.run0(enforce=True, silent=False, debug=False)\n",
    "# fsm3.run1(silent=False, successtime=300, debug=False) # run Finite State Machine\n",
    "# fsm3.run2(silent=False)\n",
    "# fsm3.run4(silent=False)\n",
    "# print(f\"FSM3 {fsm3.results['starts_counter']} {fsm3.results['first_message']} {fsm3.results['last_message']}\")"
   ]
  },
  {
   "cell_type": "code",
   "execution_count": null,
   "metadata": {},
   "outputs": [],
   "source": [
    "#fsm3.results\n",
    "#4.5.2020 validated, Dieter"
   ]
  },
  {
   "cell_type": "code",
   "execution_count": null,
   "metadata": {},
   "outputs": [],
   "source": [
    "start = fsm.results['starts'][0]\n",
    "for k in start.keys():\n",
    "    print(f\"{k:25} {(str(start[k]) if not hasattr(start[k],'__len__') else '-'):<30} type:{type(start[k])}\")"
   ]
  },
  {
   "cell_type": "code",
   "execution_count": null,
   "metadata": {},
   "outputs": [],
   "source": [
    "print(f\"SN: {fsm.results['sn']} - {fsm2.results['sn']}\")\n",
    "print(f\"starts: {len(fsm.results['starts'])} - {len(fsm2.results['starts'])}\")\n",
    "print(f\"stops: {len(fsm.results['stops'])} - {len(fsm2.results['stops'])}\")\n",
    "print(f\"messages: {fsm.results['first_message']} - {fsm2.results['first_message']}\")\n",
    "print(f\"messages: {fsm.results['last_message']} - {fsm2.results['last_message']}\")\n",
    "print()\n",
    "for s in fsm.results['starts'][-4:]:\n",
    "    print(f\"Start: no {s['no']} {s['starttime']} {s['mode']}\")\n",
    "\n",
    "print()\n",
    "for i in range(1,10):\n",
    "    if fsm.results['starts'][-i]['starttime'] == fsm2.results['starts'][0]['starttime']:\n",
    "        break\n",
    "\n",
    "s = fsm.results['starts'][-i]\n",
    "print(f\"{i}: Start: no {s['no']} {s['starttime']} {s['mode']}\")\n",
    "\n",
    "print()\n",
    "for j, s in enumerate(fsm2.results['starts'][:4]):\n",
    "    if j < i:\n",
    "        print('( ', end='')\n",
    "        print(f\"Start: no {s['no']} {s['starttime']} {s['mode']}\", end='')\n",
    "        print(' )')\n",
    "    else:\n",
    "        print(f\"Start: no {s['no']} {s['starttime']} {s['mode']}\")\n",
    "\n",
    "#---\n",
    "print('-----')\n",
    "for s in fsm.results['stops'][-4:]:\n",
    "    print(f\"Stop: no {s['no']} {s['starttime']} {s['mode']}\")\n",
    "\n",
    "print()\n",
    "for i in range(1,10):\n",
    "    if fsm.results['stops'][-i]['starttime'] == fsm2.results['stops'][0]['starttime']:\n",
    "        break\n",
    "\n",
    "s = fsm.results['stops'][-i]\n",
    "print(f\"{i}: Stop: no {s['no']} {s['starttime']} {s['mode']}\")\n",
    "\n",
    "print()\n",
    "for j, s in enumerate(fsm2.results['stops'][:4]):\n",
    "    if j < i:\n",
    "        print('( ', end='')\n",
    "        print(f\"Stop: no {s['no']} {s['starttime']} {s['mode']}\", end='')\n",
    "        print(' )')\n",
    "    else:\n",
    "        print(f\"Stop: no {s['no']} {s['starttime']} {s['mode']}\")\n"
   ]
  },
  {
   "cell_type": "code",
   "execution_count": null,
   "metadata": {},
   "outputs": [],
   "source": [
    "fsm.merge_results(fsm2)"
   ]
  },
  {
   "cell_type": "code",
   "execution_count": null,
   "metadata": {},
   "outputs": [],
   "source": [
    "#4.5.2020 validated, Dieter\n",
    "for s in fsm.results['starts']:\n",
    "    print(f\"Start: no {s['no']:4}  {str(s['starttime']):<35} {s['mode']}\")"
   ]
  },
  {
   "cell_type": "code",
   "execution_count": null,
   "metadata": {},
   "outputs": [],
   "source": []
  }
 ],
 "metadata": {
  "interpreter": {
   "hash": "00e7f18031541dc25b2d1c6c1f90e0b122a906b1440859c87878a4f6b4e1a002"
  },
  "kernelspec": {
   "display_name": "Python 3 (ipykernel)",
   "language": "python",
   "name": "python3"
  },
  "language_info": {
   "codemirror_mode": {
    "name": "ipython",
    "version": 3
   },
   "file_extension": ".py",
   "mimetype": "text/x-python",
   "name": "python",
   "nbconvert_exporter": "python",
   "pygments_lexer": "ipython3",
   "version": "3.9.16"
  }
 },
 "nbformat": 4,
 "nbformat_minor": 4
}
