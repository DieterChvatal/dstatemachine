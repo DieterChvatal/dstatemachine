{
 "cells": [
  {
   "cell_type": "code",
   "execution_count": null,
   "metadata": {
    "tags": []
   },
   "outputs": [],
   "source": [
    "import os\n",
    "import solara\n",
    "import solara.lab\n",
    "from pathlib import Path\n",
    "from typing import Optional, cast\n",
    "from importlib import reload\n",
    "from App import stab1\n",
    "reload(stab1)\n",
    "\n",
    "@solara.component\n",
    "def Page():\n",
    "    with solara.lab.Tabs(background_color=\"secondary\", dark=True):\n",
    "        with solara.lab.Tab(\"Select Engine\", icon_name=\"mdi-engine-outline\"):\n",
    "\n",
    "            with solara.lab.Tabs(vertical=True, slider_color=\"green\"):\n",
    "\n",
    "                with solara.lab.Tab(\"FSM Result Files\", icon_name=\"mdi-folder-outline\"):\n",
    "                    stab1.LoadFile(\"/Documents/Scripts/dstatemachine/data/\", \".dfsm\")\n",
    "                \n",
    "                with solara.lab.Tab(\"New Analysis\", icon_name=\"mdi-chart-line\"):\n",
    "                    solara.Markdown(\"System settings\")\n",
    "\n",
    "        with solara.lab.Tab(\"2. Messages & FSM\", icon_name=\"mdi-message-processing-outline\"):\n",
    "            solara.Markdown(\"Hello\")\n",
    "\n",
    "        with solara.lab.Tab(\"3. Results\", icon_name=\"mdi-chart-line\"):\n",
    "            solara.Markdown(\"Hello\")\n",
    "\n",
    "        with solara.lab.Tab(\"4. Start Plots\", icon_name=\"mdi-rocket\"):\n",
    "            solara.Markdown(\"Hello\")\n",
    "\n",
    "        with solara.lab.Tab(\"4. Settings\", icon_name=\"mdi-cogs\"):\n",
    "            solara.Markdown(\"Hello\")\n",
    "display(Page())"
   ]
  }
 ],
 "metadata": {
  "kernelspec": {
   "display_name": "Python 3 (ipykernel)",
   "language": "python",
   "name": "python3"
  },
  "language_info": {
   "codemirror_mode": {
    "name": "ipython",
    "version": 3
   },
   "file_extension": ".py",
   "mimetype": "text/x-python",
   "name": "python",
   "nbconvert_exporter": "python",
   "pygments_lexer": "ipython3",
   "version": "3.9.16"
  }
 },
 "nbformat": 4,
 "nbformat_minor": 4
}
