{
 "cells": [
  {
   "cell_type": "code",
   "execution_count": null,
   "metadata": {
    "tags": []
   },
   "outputs": [],
   "source": [
    "import os\n",
    "import solara\n",
    "import solara.lab\n",
    "from pathlib import Path\n",
    "from typing import Optional, cast\n",
    "\n",
    "@solara.component\n",
    "def Filebrowser(localpath, myfilter):\n",
    "    file, set_file = solara.use_state(cast(Optional[Path], None))\n",
    "    path, set_path = solara.use_state(cast(Optional[Path], None))\n",
    "    directory, set_directory = solara.use_state(Path(\"~\" + localpath).expanduser())\n",
    "\n",
    "    def filter(s, pattern):\n",
    "        return s.endswith(pattern)\n",
    "\n",
    "    with solara.HBox() as main:\n",
    "        with solara.VBox():\n",
    "            #can_select = solara.ui_checkbox(\"Enable select\")\n",
    "            can_select =False\n",
    "\n",
    "            def reset_path():\n",
    "                set_path(None)\n",
    "                set_file(None)\n",
    "\n",
    "            solara.use_memo(reset_path, [can_select])\n",
    "            solara.FileBrowser(directory, on_directory_change=set_directory, filter = myfilter, on_path_select=set_path, on_file_open=set_file, can_select=can_select)\n",
    "\n",
    "            # reset path and file when can_select changes\n",
    "        with solara.VBox():\n",
    "            #solara.Info(f\"Path: {directory}\")\n",
    "            #solara.Info(f\"You selected path: {path}\")\n",
    "            if file is not None:\n",
    "                _ , lfile = os.path.split(file)\n",
    "            else:\n",
    "                lfile = None\n",
    "            solara.Info(f\"File: {lfile}\")\n",
    "    return main\n",
    "\n",
    "\n",
    "@solara.component\n",
    "def Page():\n",
    "    with solara.lab.Tabs(background_color=\"primary\", dark=True):\n",
    "        with solara.lab.Tab(\"1. Select Engine\", icon_name=\"mdi-engine-outline\"):\n",
    "\n",
    "                    with solara.lab.Tabs(vertical=True, slider_color=\"green\"):\n",
    "                        with solara.lab.Tab(\"FSM Result Files\", icon_name=\"mdi-folder-outline\"):\n",
    "                            Filebrowser(\"/Documents/Scripts/dstatemachine/data/\", lambda x: str(x).endswith(\".dfsm\"))\n",
    "                        with solara.lab.Tab(\"Start Analysis\", icon_name=\"mdi-chart-line\"):\n",
    "                            solara.Markdown(\"System settings\")\n",
    "        with solara.lab.Tab(\"2. Messages & FSM\", icon_name=\"mdi-message-processing-outline\"):\n",
    "            solara.Markdown(\"Hello\")\n",
    "\n",
    "        with solara.lab.Tab(\"3. Results\", icon_name=\"mdi-chart-line\"):\n",
    "            solara.Markdown(\"Hello\")\n",
    "\n",
    "        with solara.lab.Tab(\"4. Start Plots\", icon_name=\"mdi-rocket\"):\n",
    "            solara.Markdown(\"Hello\")\n",
    "\n",
    "        with solara.lab.Tab(\"4. Settings\", icon_name=\"mdi-cogs\"):\n",
    "            solara.Markdown(\"Hello\")\n",
    "display(Page())"
   ]
  }
 ],
 "metadata": {
  "kernelspec": {
   "display_name": "Python 3 (ipykernel)",
   "language": "python",
   "name": "python3"
  },
  "language_info": {
   "codemirror_mode": {
    "name": "ipython",
    "version": 3
   },
   "file_extension": ".py",
   "mimetype": "text/x-python",
   "name": "python",
   "nbconvert_exporter": "python",
   "pygments_lexer": "ipython3",
   "version": "3.10.10"
  }
 },
 "nbformat": 4,
 "nbformat_minor": 4
}
