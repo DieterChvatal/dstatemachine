{
 "cells": [
  {
   "cell_type": "code",
   "execution_count": 99,
   "metadata": {
    "tags": []
   },
   "outputs": [
    {
     "data": {
      "application/vnd.jupyter.widget-view+json": {
       "model_id": "9c9cd9d7fe0d4f9c8f8d294d5a9b82b0",
       "version_major": 2,
       "version_minor": 0
      },
      "text/html": [
       "Cannot show widget. You probably want to rerun the code cell above (<i>Click in the code cell, and press Shift+Enter <kbd>⇧</kbd>+<kbd>↩</kbd></i>)."
      ],
      "text/plain": [
       "Cannot show ipywidgets in text"
      ]
     },
     "metadata": {},
     "output_type": "display_data"
    }
   ],
   "source": [
    "import os\n",
    "import solara\n",
    "import solara.lab\n",
    "from pathlib import Path\n",
    "from typing import Optional, cast\n",
    "\n",
    "@solara.component\n",
    "def LoadFile(localpath,pattern):\n",
    "    file, set_file = solara.use_state(cast(Optional[Path], None))\n",
    "    path, set_path = solara.use_state(cast(Optional[Path], None))\n",
    "    directory, set_directory = solara.use_state(Path(\"~\" + localpath).expanduser())\n",
    "    fsminfo, set_fsminfo = solara.use_state(cast(Optional[str], None))\n",
    "\n",
    "    def lfilter(s):\n",
    "        #return s.endswith(pattern)\n",
    "        return str(s).endswith(pattern)\n",
    "    \n",
    "    def lonclick():\n",
    "        _ , lfile = os.path.split(file) if file is not None else (None, None) \n",
    "        set_fsminfo(f\"{lfile}\")\n",
    "\n",
    "    def lsetdirectory(d):\n",
    "        set_directory(Path(\"~\" + localpath).expanduser())\n",
    "\n",
    "    with solara.Columns([2,2]) as main:\n",
    "        with solara.Column():\n",
    "            can_select =False\n",
    "\n",
    "            #solara.use_memo(reset_path, [can_select])\n",
    "            solara.FileBrowser(directory, on_directory_change=set_directory, filter=lfilter, on_path_select=set_path, on_file_open=set_file, can_select=can_select)\n",
    "\n",
    "        with solara.Column():\n",
    "            _ , lfile = os.path.split(file) if file is not None else (None, None) \n",
    "            solara.Markdown(f\"\"\"\n",
    "            <br>\n",
    "            ###Load FSM File:\n",
    "            \"\"\")   \n",
    "            solara.Button(label=f\"{lfile}\", color=\"primary\", on_click=lonclick)\n",
    "            with solara.Card():\n",
    "                 with solara.HBox():\n",
    "                    solara.SpinnerSolara(size=\"20px\")\n",
    "                    solara.Markdown(f\"###&nbsp;&nbsp;{fsminfo}\")\n",
    "    return main\n",
    "\n",
    "\n",
    "@solara.component\n",
    "def Page():\n",
    "    with solara.lab.Tabs(background_color=\"secondary\", dark=True):\n",
    "        with solara.lab.Tab(\"Select Engine\", icon_name=\"mdi-engine-outline\"):\n",
    "\n",
    "                    with solara.lab.Tabs(vertical=True, slider_color=\"green\"):\n",
    "                        with solara.lab.Tab(\"FSM Result Files\", icon_name=\"mdi-folder-outline\"):\n",
    "                            LoadFile(\"/Documents/Scripts/dstatemachine/data/\", \".dfsm\")\n",
    "                        with solara.lab.Tab(\"New Analysis\", icon_name=\"mdi-chart-line\"):\n",
    "                            solara.Markdown(\"System settings\")\n",
    "\n",
    "        with solara.lab.Tab(\"2. Messages & FSM\", icon_name=\"mdi-message-processing-outline\"):\n",
    "            solara.Markdown(\"Hello\")\n",
    "\n",
    "        with solara.lab.Tab(\"3. Results\", icon_name=\"mdi-chart-line\"):\n",
    "            solara.Markdown(\"Hello\")\n",
    "\n",
    "        with solara.lab.Tab(\"4. Start Plots\", icon_name=\"mdi-rocket\"):\n",
    "            solara.Markdown(\"Hello\")\n",
    "\n",
    "        with solara.lab.Tab(\"4. Settings\", icon_name=\"mdi-cogs\"):\n",
    "            solara.Markdown(\"Hello\")\n",
    "display(Page())"
   ]
  }
 ],
 "metadata": {
  "kernelspec": {
   "display_name": "Python 3 (ipykernel)",
   "language": "python",
   "name": "python3"
  },
  "language_info": {
   "codemirror_mode": {
    "name": "ipython",
    "version": 3
   },
   "file_extension": ".py",
   "mimetype": "text/x-python",
   "name": "python",
   "nbconvert_exporter": "python",
   "pygments_lexer": "ipython3",
   "version": "3.10.10"
  }
 },
 "nbformat": 4,
 "nbformat_minor": 4
}
