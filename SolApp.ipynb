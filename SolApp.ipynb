{
 "cells": [
  {
   "cell_type": "code",
   "execution_count": 1,
   "metadata": {
    "tags": []
   },
   "outputs": [
    {
     "data": {
      "application/javascript": "\n                    window.jupyter_python_executable = '\\r\\r';\n                    window.jupyter_widget_checks_silent = true;\n                    window.jupyter_widget_checks_libraries = [{\"python\": \"ipyvuetify\", \"classic\": \"jupyter-vuetify/extension\", \"lab\": \"jupyter-vuetify\"}, {\"python\": \"ipyvue\", \"classic\": \"jupyter-vue/extension\", \"lab\": \"jupyter-vue\"}];\n                    ",
      "text/plain": [
       "<IPython.core.display.Javascript object>"
      ]
     },
     "metadata": {},
     "output_type": "display_data"
    },
    {
     "data": {
      "text/html": [
       "<div class=\"jupyter-widget-checks-container\">\n",
       "    <script>\n",
       "        (function () {\n",
       "            console.log(\"Checking for jupyter-widgets extensions\")\n",
       "            const inLab = window._JUPYTERLAB !== undefined;\n",
       "            const silent = jupyter_widget_checks_silent;\n",
       "            const containers = document.getElementsByClassName('jupyter-widget-checks-container');\n",
       "            const rootEl = containers[containers.length - 1];\n",
       "            const libraries = window.jupyter_widget_checks_libraries;\n",
       "\n",
       "            function getBaseUrl() {\n",
       "                const labConfigData = document.getElementById(\"jupyter-config-data\");\n",
       "                if (labConfigData) {\n",
       "                    /* lab and Voila */\n",
       "                    return JSON.parse(labConfigData.textContent).baseUrl;\n",
       "                }\n",
       "                let base = document.body.dataset.baseUrl || document.baseURI;\n",
       "                return base;\n",
       "            }\n",
       "\n",
       "            function checkLibrary(extensions, library) {\n",
       "                let installed = false;\n",
       "                let ok = true;\n",
       "                if (inLab) {\n",
       "                    installed = _JUPYTERLAB[library.lab] !== undefined\n",
       "                } else {\n",
       "                    installed = extensions[library.classic] !== undefined;\n",
       "                    let enabled = extensions[library.classic] === true;\n",
       "                }\n",
       "                const div = document.createElement(\"div\")\n",
       "                if (installed) {\n",
       "                    if (!silent) {\n",
       "                        div.innerHTML = `Extension ${library.python} is installed at the server ✅`\n",
       "                        rootEl.appendChild(div)\n",
       "                    }\n",
       "                } else {\n",
       "                    div.innerHTML = `Extension ${library.python} is <b>NOT</b> installed at the server ❌.`\n",
       "                    rootEl.appendChild(div)\n",
       "                    ok = false;\n",
       "                }\n",
       "                return ok;\n",
       "            }\n",
       "\n",
       "            async function check() {\n",
       "                const url = `${getBaseUrl()}api/config/notebook`\n",
       "                const response = (await fetch(url));\n",
       "                const data = await response.json()\n",
       "                const extensions = data[\"load_extensions\"];\n",
       "                var ok = true;\n",
       "                let needsInstall = [];\n",
       "                libraries.forEach((library) => {\n",
       "                    if (!checkLibrary(extensions, library)) {\n",
       "                        ok = false;\n",
       "                        needsInstall.push(library.python)\n",
       "                        console.log(\"Needs install\", library.python)\n",
       "                    }\n",
       "                })\n",
       "                console.log(ok, needsInstall)\n",
       "                if (!ok) {\n",
       "                    const div = document.createElement(\"div\")\n",
       "                    const div2 = document.createElement(\"div\")\n",
       "                    div.innerHTML = `Run <code>${jupyter_python_executable} -m pip install ${needsInstall.join(\" \")}</code>. Refresh the page after installation.`\n",
       "                    div2.innerHTML = `Visit <a href=\"https://solara.dev/docs/troubleshoot\" target=\"_blank\">https://solara/dev/docs/troubleshoot</a> for more information.`\n",
       "                    rootEl.appendChild(div)\n",
       "                    rootEl.appendChild(div2)\n",
       "                }\n",
       "            }\n",
       "            check()\n",
       "        })();\n",
       "    </script>\n",
       "</div>\n"
      ],
      "text/plain": [
       "<IPython.core.display.HTML object>"
      ]
     },
     "metadata": {},
     "output_type": "display_data"
    },
    {
     "data": {
      "application/vnd.jupyter.widget-view+json": {
       "model_id": "22e634bf37fd4927abd6fb1c7d66af70",
       "version_major": 2,
       "version_minor": 0
      },
      "text/html": [
       "Cannot show widget. You probably want to rerun the code cell above (<i>Click in the code cell, and press Shift+Enter <kbd>⇧</kbd>+<kbd>↩</kbd></i>)."
      ],
      "text/plain": [
       "Cannot show ipywidgets in text"
      ]
     },
     "metadata": {},
     "output_type": "display_data"
    }
   ],
   "source": [
    "import os\n",
    "import solara\n",
    "import solara.lab\n",
    "from pathlib import Path\n",
    "from typing import Optional, cast\n",
    "from importlib import reload\n",
    "from App import stab1\n",
    "stab1 = reload(stab1)\n",
    "\n",
    "@solara.component\n",
    "def Page():\n",
    "    #with solara.lab.Tabs(vertical=True, slider_color=\"green\", background_color=\"primary\", dark=False):\n",
    "    bcolor=\"rgba(207, 216, 220, 0.4)\"\n",
    "    with solara.lab.Tabs(vertical=True, background_color=bcolor, dark=False):\n",
    "        with solara.lab.Tab(\"1. Select Engine\", icon_name=\"mdi-engine-outline\"):\n",
    "\n",
    "            with solara.lab.Tabs(vertical=False, slider_color=\"green\", background_color=bcolor):\n",
    "\n",
    "                with solara.lab.Tab(\"FSM Result Files\", icon_name=\"mdi-folder-outline\"):\n",
    "                    stab1.LoadFile(\"/Documents/Scripts/dstatemachine/data/\", \".dfsm\")\n",
    "                \n",
    "                with solara.lab.Tab(\"New Analysis\", icon_name=\"mdi-chart-line\"):\n",
    "                    stab1.StartAnalysis()\n",
    "\n",
    "        with solara.lab.Tab(\"2. Messages & FSM\", icon_name=\"mdi-message-processing-outline\"):\n",
    "            solara.Markdown(\"Hello\")\n",
    "\n",
    "        with solara.lab.Tab(\"3. Results\", icon_name=\"mdi-chart-line\"):\n",
    "            solara.Markdown(\"Hello\")\n",
    "\n",
    "        with solara.lab.Tab(\"4. Start Plots\", icon_name=\"mdi-rocket\"):\n",
    "            solara.Markdown(\"Hello\")\n",
    "\n",
    "        with solara.lab.Tab(\"4. Settings\", icon_name=\"mdi-cogs\"):\n",
    "            solara.Markdown(\"Hello\")\n",
    "display(Page())"
   ]
  }
 ],
 "metadata": {
  "kernelspec": {
   "display_name": "Python 3 (ipykernel)",
   "language": "python",
   "name": "python3"
  },
  "language_info": {
   "codemirror_mode": {
    "name": "ipython",
    "version": 3
   },
   "file_extension": ".py",
   "mimetype": "text/x-python",
   "name": "python",
   "nbconvert_exporter": "python",
   "pygments_lexer": "ipython3",
   "version": "3.10.13"
  }
 },
 "nbformat": 4,
 "nbformat_minor": 4
}
