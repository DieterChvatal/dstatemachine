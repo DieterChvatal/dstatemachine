{
 "cells": [
  {
   "cell_type": "code",
   "execution_count": 1,
   "metadata": {
    "tags": []
   },
   "outputs": [
    {
     "data": {
      "application/javascript": [
       "\n",
       "                    window.jupyter_python_executable = '\\r\\r';\n",
       "                    window.jupyter_widget_checks_silent = true;\n",
       "                    window.jupyter_widget_checks_libraries = [{\"python\": \"ipyvuetify\", \"classic\": \"jupyter-vuetify/extension\", \"lab\": \"jupyter-vuetify\"}, {\"python\": \"ipyvue\", \"classic\": \"jupyter-vue/extension\", \"lab\": \"jupyter-vue\"}];\n",
       "                    "
      ],
      "text/plain": [
       "<IPython.core.display.Javascript object>"
      ]
     },
     "metadata": {},
     "output_type": "display_data"
    },
    {
     "data": {
      "text/html": [
       "<div class=\"jupyter-widget-checks-container\">\n",
       "    <script>\n",
       "        (function () {\n",
       "            console.log(\"Checking for jupyter-widgets extensions\")\n",
       "            const inLab = window._JUPYTERLAB !== undefined;\n",
       "            const silent = jupyter_widget_checks_silent;\n",
       "            const containers = document.getElementsByClassName('jupyter-widget-checks-container');\n",
       "            const rootEl = containers[containers.length - 1];\n",
       "            const libraries = window.jupyter_widget_checks_libraries;\n",
       "\n",
       "            function getBaseUrl() {\n",
       "                const labConfigData = document.getElementById(\"jupyter-config-data\");\n",
       "                if (labConfigData) {\n",
       "                    /* lab and Voila */\n",
       "                    return JSON.parse(labConfigData.textContent).baseUrl;\n",
       "                }\n",
       "                let base = document.body.dataset.baseUrl || document.baseURI;\n",
       "                return base;\n",
       "            }\n",
       "\n",
       "            function checkLibrary(extensions, library) {\n",
       "                let installed = false;\n",
       "                let ok = true;\n",
       "                if (inLab) {\n",
       "                    installed = _JUPYTERLAB[library.lab] !== undefined\n",
       "                } else {\n",
       "                    installed = extensions[library.classic] !== undefined;\n",
       "                    let enabled = extensions[library.classic] === true;\n",
       "                }\n",
       "                const div = document.createElement(\"div\")\n",
       "                if (installed) {\n",
       "                    if (!silent) {\n",
       "                        div.innerHTML = `Extension ${library.python} is installed at the server ✅`\n",
       "                        rootEl.appendChild(div)\n",
       "                    }\n",
       "                } else {\n",
       "                    div.innerHTML = `Extension ${library.python} is <b>NOT</b> installed at the server ❌.`\n",
       "                    rootEl.appendChild(div)\n",
       "                    ok = false;\n",
       "                }\n",
       "                return ok;\n",
       "            }\n",
       "\n",
       "            async function check() {\n",
       "                const url = `${getBaseUrl()}api/config/notebook`\n",
       "                const response = (await fetch(url));\n",
       "                const data = await response.json()\n",
       "                const extensions = data[\"load_extensions\"];\n",
       "                var ok = true;\n",
       "                let needsInstall = [];\n",
       "                libraries.forEach((library) => {\n",
       "                    if (!checkLibrary(extensions, library)) {\n",
       "                        ok = false;\n",
       "                        needsInstall.push(library.python)\n",
       "                        console.log(\"Needs install\", library.python)\n",
       "                    }\n",
       "                })\n",
       "                console.log(ok, needsInstall)\n",
       "                if (!ok) {\n",
       "                    const div = document.createElement(\"div\")\n",
       "                    const div2 = document.createElement(\"div\")\n",
       "                    div.innerHTML = `Run <code>${jupyter_python_executable} -m pip install ${needsInstall.join(\" \")}</code>. Refresh the page after installation.`\n",
       "                    div2.innerHTML = `Visit <a href=\"https://solara.dev/docs/troubleshoot\" target=\"_blank\">https://solara/dev/docs/troubleshoot</a> for more information.`\n",
       "                    rootEl.appendChild(div)\n",
       "                    rootEl.appendChild(div2)\n",
       "                }\n",
       "            }\n",
       "            check()\n",
       "        })();\n",
       "    </script>\n",
       "</div>\n"
      ],
      "text/plain": [
       "<IPython.core.display.HTML object>"
      ]
     },
     "metadata": {},
     "output_type": "display_data"
    }
   ],
   "source": [
    "import solara\n",
    "import os\n",
    "if os.name != 'nt' :\n",
    "    import resource\n",
    "#%matplotlib widget\n",
    "import pandas as pd\n",
    "import ipywidgets as widgets\n",
    "from IPython.display import display, HTML\n",
    "from App.common import V, init_globals, loading_bar, myfigures, get_query_list, mp, tabs_out, tabs_html\n",
    "from App import tab1, tab2, tab3, tab4, tab5, tab6, tab7\n",
    "import dmyplant2 as dmp2\n",
    "import logging\n",
    "import shutil\n",
    "\n",
    "logfilename = 'FSM.log'\n",
    "if os.path.exists(logfilename):\n",
    "    shutil.copyfile(logfilename,logfilename[:-4] + '_bak.log')\n",
    "\n",
    "logging.basicConfig(\n",
    "    filename=logfilename,\n",
    "    filemode='w',\n",
    "    format='%(asctime)s %(levelname)s %(message)s',\n",
    "    datefmt='%Y-%m-%d %H:%M:%S',\n",
    "    level=logging.ERROR\n",
    ")\n",
    "logging.info(\"FSM logging Start\")"
   ]
  },
  {
   "cell_type": "markdown",
   "metadata": {},
   "source": [
    "### MyPlant Statemachine Engine Analysis ©2023 Dieter Chvatal"
   ]
  },
  {
   "cell_type": "code",
   "execution_count": null,
   "metadata": {
    "tags": []
   },
   "outputs": [],
   "source": [
    "#########################################\n",
    "# tabs\n",
    "#########################################\n",
    "class App():\n",
    "    def __init__(self):\n",
    "        \n",
    "        self.tab_objects_list = [\n",
    "            tab1.Tab(),\n",
    "            tab2.Tab(),\n",
    "            tab3.Tab(),\n",
    "            tab4.Tab(),\n",
    "            tab5.Tab(),\n",
    "            #tab6.Tab(),\n",
    "            #tab7.Tab()\n",
    "        ]\n",
    "\n",
    "        self.tabs = widgets.Tab()\n",
    "        self.tabs.observe(self.tabs_change_index, 'selected_index')\n",
    "\n",
    "        self.set_children()\n",
    "        self.set_titles()\n",
    "\n",
    "        self.tab_objects_list[0].selected() # preselect the first tab.\n",
    "\n",
    "    def show(self):\n",
    "        display(\n",
    "            widgets.VBox([\n",
    "                self.tabs,\n",
    "                tabs_out,\n",
    "                tabs_html])\n",
    "            );\n",
    "\n",
    "    def set_children(self):\n",
    "        self.tabs.children = [t.tab for t in self.tab_objects_list]\n",
    "\n",
    "    def set_titles(self):\n",
    "        for i,t in enumerate(self.tab_objects_list):\n",
    "            self.tabs.set_title(i,t.title)\n",
    "\n",
    "    def clear_all(self):\n",
    "        for t in self.tab_objects_list:\n",
    "            t.cleartab()\n",
    "\n",
    "    def tabs_change_index(self, *args):  # the tabs callback\n",
    "        self.tab_objects_list[self.tabs.selected_index].selected()\n",
    "\n",
    "V.app = App()\n",
    "V.app.show()"
   ]
  },
  {
   "cell_type": "code",
   "execution_count": null,
   "metadata": {},
   "outputs": [],
   "source": []
  }
 ],
 "metadata": {
  "hide_input": false,
  "kernelspec": {
   "display_name": "Python 3 (ipykernel)",
   "language": "python",
   "name": "python3"
  },
  "language_info": {
   "codemirror_mode": {
    "name": "ipython",
    "version": 3
   },
   "file_extension": ".py",
   "mimetype": "text/x-python",
   "name": "python",
   "nbconvert_exporter": "python",
   "pygments_lexer": "ipython3",
   "version": "3.10.10"
  },
  "varInspector": {
   "cols": {
    "lenName": 16,
    "lenType": 16,
    "lenVar": 40
   },
   "kernels_config": {
    "python": {
     "delete_cmd_postfix": "",
     "delete_cmd_prefix": "del ",
     "library": "var_list.py",
     "varRefreshCmd": "print(var_dic_list())"
    },
    "r": {
     "delete_cmd_postfix": ") ",
     "delete_cmd_prefix": "rm(",
     "library": "var_list.r",
     "varRefreshCmd": "cat(var_dic_list()) "
    }
   },
   "types_to_exclude": [
    "module",
    "function",
    "builtin_function_or_method",
    "instance",
    "_Feature"
   ],
   "window_display": false
  },
  "vscode": {
   "interpreter": {
    "hash": "2c491490fcbaa267d3b03bb82b8635fcb6cd691296654efb858c62ecf0590403"
   }
  }
 },
 "nbformat": 4,
 "nbformat_minor": 4
}
